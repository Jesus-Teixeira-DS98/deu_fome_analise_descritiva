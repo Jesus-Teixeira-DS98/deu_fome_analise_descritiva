{
 "cells": [
  {
   "cell_type": "markdown",
   "id": "33d71d72",
   "metadata": {},
   "source": [
    "# Imports"
   ]
  },
  {
   "cell_type": "code",
   "execution_count": 1,
   "id": "de6b8ca9",
   "metadata": {},
   "outputs": [],
   "source": [
    "import pandas as pd\n",
    "import inflection "
   ]
  },
  {
   "cell_type": "markdown",
   "id": "59df72bf",
   "metadata": {},
   "source": [
    "# Funções"
   ]
  },
  {
   "cell_type": "code",
   "execution_count": 2,
   "id": "2dc4c541",
   "metadata": {},
   "outputs": [],
   "source": [
    "def rename_columns(dataframe):\n",
    "    df = dataframe.copy()\n",
    "    title = lambda x: inflection.titleize(x)\n",
    "    snakecase = lambda x: inflection.underscore(x)\n",
    "    spaces = lambda x: x.replace(\" \", \"\")\n",
    "    cols_old = list(df.columns)\n",
    "    cols_old = list(map(title, cols_old))\n",
    "    cols_old = list(map(spaces, cols_old))\n",
    "    cols_new = list(map(snakecase, cols_old))\n",
    "    df.columns = cols_new\n",
    "    return df\n",
    "\n",
    "def dict_to_df(dicto, col1, col2):\n",
    "    df = pd.DataFrame.from_dict(dicto, orient='index')\n",
    "    df = df.reset_index()\n",
    "    df.rename(columns = {'index':col1, 0: col2}, inplace=True)\n",
    "    return df\n",
    "\n",
    "def transform(data, countries, colors, fx):\n",
    "    ## Removendo Outlier da Austrália \n",
    "    cond1 = (data['country_code'] == 14)\n",
    "    cond2 = (data['average_cost_for_two'] == 25000017)\n",
    "    data.loc[cond1 & cond2, :] ## Verificando e confirmando de que é só australia\n",
    "    data = data[data['average_cost_for_two'] != 25000017] # removendo da Base\n",
    "    # Removendo NAN\n",
    "    data = data.loc[pd.isna(data['cuisines']) != True, :]\n",
    "    # Deixando Cuisines Unicos \n",
    "    data['cuisines'] = data.loc[:, \"cuisines\"].apply(lambda x: x.split(\",\")[0])       \n",
    "    # Removendo Duplicatas\n",
    "    df = data.drop_duplicates(subset=['restaurant_id'])\n",
    "    df = df.reset_index(drop=True)\n",
    "    # Fazendo Merge com os DFs Colors e countries\n",
    "    df1 = df.merge(countries, how='left', left_on='country_code', right_on='id')\n",
    "    df1 = df1.merge(colors, how='left', left_on='rating_color', right_on='id')\n",
    "    df1 = df1.merge(fx, how='left', left_on='currency', right_on='id')\n",
    "    ### Converter Valores Para USD \n",
    "    df1['average_cost_for_two_usd'] = df1['average_cost_for_two'] * df1['price']\n",
    "    # removendo NAN \n",
    "    df1 = df1.loc[df1['cuisines'] != 'nan', :]\n",
    "    df1 = df1.reset_index(drop=True)\n",
    "    # Removendo colunas \n",
    "    df1 = df1.drop(['country_code', 'id_x', 'id_y', 'id', 'price'], axis = 1)\n",
    "    return df1\n",
    "\n",
    "def price_range(price):\n",
    "    if price_range == 1:\n",
    "        return \"cheap\"\n",
    "    elif price_range == 2:\n",
    "        return \"normal\"\n",
    "    elif price_range == 3:\n",
    "        return \"expensive\"\n",
    "    else:\n",
    "        return \"gourmet\""
   ]
  },
  {
   "cell_type": "markdown",
   "id": "35c9531f",
   "metadata": {},
   "source": [
    "# Extração"
   ]
  },
  {
   "cell_type": "code",
   "execution_count": 3,
   "id": "cf679ef5",
   "metadata": {},
   "outputs": [],
   "source": [
    "data = pd.read_csv('zomato.csv')\n",
    "\n",
    "COUNTRIES = {\n",
    "1: \"India\",\n",
    "14: \"Australia\",\n",
    "30: \"Brazil\",\n",
    "37: \"Canada\",\n",
    "94: \"Indonesia\",\n",
    "148: \"New Zeland\",\n",
    "162: \"Philippines\",\n",
    "166: \"Qatar\",\n",
    "184: \"Singapure\",\n",
    "189: \"South Africa\",\n",
    "191: \"Sri Lanka\",\n",
    "208: \"Turkey\",\n",
    "214: \"United Arab Emirates\",\n",
    "215: \"England\",\n",
    "216: \"United States of America\",\n",
    "}\n",
    "\n",
    "COLORS = {\n",
    "\"3F7E00\": \"darkgreen\",\n",
    "\"5BA829\": \"green\",\n",
    "\"9ACD32\": \"lightgreen\",\n",
    "\"CDD614\": \"orange\",\n",
    "\"FFBA00\": \"red\",\n",
    "\"CBCBC8\": \"darkred\",\n",
    "\"FF7800\": \"darkred\",\n",
    "}\n",
    "\n",
    "FX = {\n",
    "    'Botswana Pula(P)' : 0.076,\n",
    "    'Brazilian Real(R$)': 0.19,\n",
    "    'Dollar($)': 1,\n",
    "    'Emirati Diram(AED)': 0.27,\n",
    "    'Indian Rupees(Rs.)': 0.012,\n",
    "    'Indonesian Rupiah(IDR)': 0.000064,\n",
    "    'NewZealand($)' : 0.64,\n",
    "    'Pounds(£)': 1.21,\n",
    "    'Qatari Rial(QR)' : 0.27,\n",
    "    'Rand(R)' : 0.057,\n",
    "    'Sri Lankan Rupee(LKR)': 0.027,\n",
    "    'Turkish Lira(TL)': 0.054\n",
    "    \n",
    "}"
   ]
  },
  {
   "cell_type": "markdown",
   "id": "45e1ba31",
   "metadata": {},
   "source": [
    "# Limpando e Criando Colunas"
   ]
  },
  {
   "cell_type": "code",
   "execution_count": 4,
   "id": "0b1e1900",
   "metadata": {},
   "outputs": [],
   "source": [
    "colors = dict_to_df(COLORS, 'id', 'color')\n"
   ]
  },
  {
   "cell_type": "code",
   "execution_count": 5,
   "id": "0f2d7020",
   "metadata": {},
   "outputs": [],
   "source": [
    "countries = dict_to_df(COUNTRIES, 'id', 'country')\n"
   ]
  },
  {
   "cell_type": "code",
   "execution_count": 6,
   "id": "a3f6fd26",
   "metadata": {},
   "outputs": [],
   "source": [
    "fx = dict_to_df(FX, 'id', 'price')"
   ]
  },
  {
   "cell_type": "code",
   "execution_count": 7,
   "id": "de5bb1a4",
   "metadata": {},
   "outputs": [],
   "source": [
    "# Mudando o nome das Colunas e \n",
    "data = rename_columns(data)"
   ]
  },
  {
   "cell_type": "code",
   "execution_count": 8,
   "id": "02045cf6",
   "metadata": {},
   "outputs": [],
   "source": [
    "df1 = transform(data, countries, colors, fx)"
   ]
  },
  {
   "cell_type": "markdown",
   "id": "c037fc4b",
   "metadata": {},
   "source": [
    "# Dados Limpos"
   ]
  },
  {
   "cell_type": "code",
   "execution_count": 9,
   "id": "ded0dde0",
   "metadata": {},
   "outputs": [],
   "source": [
    "data_raw = df1.copy()"
   ]
  },
  {
   "cell_type": "markdown",
   "id": "1522f636",
   "metadata": {},
   "source": [
    "# Analisando a base"
   ]
  },
  {
   "cell_type": "code",
   "execution_count": 10,
   "id": "95d5f417",
   "metadata": {
    "scrolled": true
   },
   "outputs": [
    {
     "name": "stdout",
     "output_type": "stream",
     "text": [
      "6928\n",
      "15\n",
      "125\n",
      "4194330\n"
     ]
    }
   ],
   "source": [
    "#========================================================#\n",
    "                   # Análise Geral #\n",
    "#========================================================#\n",
    "\n",
    "\n",
    "# 1.Quantos restaurantes únicos estão registrados?\n",
    "qtd_restaurante = len(data_raw['restaurant_id'].unique())\n",
    "print(qtd_restaurante)\n",
    "\n",
    "# 2.Quantos países únicos estão registrados?\n",
    "qts_countries = len(data_raw['country'].unique())\n",
    "print(qts_countries)\n",
    "\n",
    "# 3.Quantas cidades únicas estão registradas?\n",
    "qtd_city = len(data_raw['city'].unique())\n",
    "print(qtd_city)\n",
    "\n",
    "# 4.Qual o total de avaliações feitas?\n",
    "total_votes = data_raw['votes'].sum()\n",
    "print(total_votes)\n",
    "\n",
    "# 5.Qual o total de tipos de culinária registrados?\n",
    "cuisines_type = len(data_raw['cuisines'].unique())"
   ]
  },
  {
   "cell_type": "code",
   "execution_count": 16,
   "id": "074a98b2",
   "metadata": {},
   "outputs": [],
   "source": [
    "#========================================================#\n",
    "                   # Pais #\n",
    "#========================================================#\n",
    "\n",
    "#1. Qual o nome do país que possui mais cidades registradas?\n",
    "pa1 = data_raw[['country', 'city']].groupby('country').nunique().reset_index()\n",
    "pa1 = pa1.sort_values('city', ascending = False).reset_index(drop=True)\n",
    "\n",
    "#2. Qual o nome do país que possui mais restaurantes registrados?\n",
    "pa2 = data_raw[['country', 'restaurant_id']].groupby('country').count().reset_index().sort_values('restaurant_id', ascending = False)\n",
    "\n",
    "#3. Qual o nome do país que possui mais restaurantes com o nível de preço igual a 4 registrados?\n",
    "linhas = data_raw['price_range'] == 4\n",
    "pa3 = data_raw.loc[linhas, :][['country', 'restaurant_id']].groupby('country').count().reset_index().sort_values('restaurant_id', ascending = False)\n",
    "\n",
    "#4. Qual o nome do país que possui a maior quantidade de tipos de culinária distintos?\n",
    "pa4 = data_raw[['country', 'cuisines']].groupby('country').nunique()\n",
    "\n",
    "#5. Qual o nome do país que possui a maior quantidade de avaliações feitas?\n",
    "pa5 = data_raw[['country', 'votes']].groupby('country').sum().reset_index().sort_values('votes', ascending = False)\n",
    "\n",
    "#6. Qual o nome do país que possui a maior quantidade de restaurantes que fazem entrega?\n",
    "linhas1 = data_raw['has_online_delivery'] == 1 \n",
    "pa6 = data_raw.loc[linhas1, :][['country', 'restaurant_id']].groupby('country').count().reset_index().sort_values('restaurant_id', ascending = False)\n",
    "\n",
    "#7. Qual o nome do país que possui a maior quantidade de restaurantes que aceitam reservas?\n",
    "linhas2 = data_raw['has_table_booking'] == 1 \n",
    "pa7 = data_raw.loc[linhas2, :][['country', 'restaurant_id']].groupby('country').count().reset_index().sort_values('restaurant_id', ascending = False)\n",
    "\n",
    "#8. Qual o nome do país que possui, na média, a maior quantidade de avaliações registrada?\n",
    "pa8 = data_raw[['country', 'votes']].groupby('country').mean().reset_index().sort_values('votes', ascending = False)\n",
    "pa8['votes'] = round(pa8['votes'], 2)\n",
    "\n",
    "#9. Qual o nome do país que possui, na média, a maior nota média registrada?\n",
    "pa9 = data_raw[['country', 'aggregate_rating']].groupby('country').max().reset_index().sort_values('aggregate_rating', ascending = False)\n",
    "\n",
    "#10. Qual o nome do país que possui, na média, a menor nota média registrada?\n",
    "pa10 = data_raw[['country', 'aggregate_rating']].groupby('country').min().reset_index().sort_values('aggregate_rating', ascending = True)\n",
    "\n",
    "#11. Qual a média de preço de um prato para dois por país?\n",
    "pa11 = data_raw[['country', 'average_cost_for_two_usd']].groupby('country').mean().reset_index().sort_values('average_cost_for_two_usd', ascending = False)"
   ]
  },
  {
   "cell_type": "code",
   "execution_count": 12,
   "id": "9ece8c6d",
   "metadata": {},
   "outputs": [],
   "source": [
    "#========================================================#\n",
    "                   # Cidade #\n",
    "#========================================================#\n",
    "\n",
    "#1. Qual o nome da cidade que possui mais restaurantes registrados?\n",
    "c1 = data_raw[['city', 'restaurant_id']].groupby('city').count().reset_index().sort_values('restaurant_id', ascending = False)\n",
    "\n",
    "#2. Qual o nome da cidade que possui mais restaurantes com nota média acima de 4?\n",
    "c2 = data_raw.loc[data_raw['aggregate_rating'] >= 4.0, :][['city', 'restaurant_id']].groupby('city').count().reset_index().sort_values('restaurant_id', ascending = False)\n",
    "\n",
    "#3. Qual o nome da cidade que possui mais restaurantes com nota média abaixo de 2.5?\n",
    "c3 = data_raw.loc[data_raw['aggregate_rating'] < 2.5, :][['city', 'restaurant_id']].groupby('city').count().reset_index().sort_values('restaurant_id', ascending = False)\n",
    "\n",
    "#4. Qual o nome da cidade que possui o maior valor médio de um prato para dois? \n",
    "c4 = data_raw[['city', 'average_cost_for_two_usd']].groupby('city').max().reset_index().sort_values('average_cost_for_two_usd', ascending = False)\n",
    "\n",
    "#5. Qual o nome da cidade que possui a maior quantidade de tipos de culinária distintas?\n",
    "c5 = data_raw[['city', 'cuisines']].groupby('city').nunique().reset_index().sort_values('cuisines', ascending = False)\n",
    "\n",
    "#6. Qual o nome da cidade que possui a maior quantidade de restaurantes que fazem reservas?\n",
    "c6 = data_raw.loc[data_raw['has_table_booking'] == 1, :][['city', 'restaurant_id']].groupby('city').count().reset_index().sort_values('restaurant_id', ascending = False)\n",
    "\n",
    "#7. Qual o nome da cidade que possui a maior quantidade de restaurantes que fazem entregas?\n",
    "c7 = data_raw.loc[data_raw['is_delivering_now'] == 1, :][['city', 'restaurant_id']].groupby('city').count().reset_index().sort_values('restaurant_id', ascending = False)\n",
    "\n",
    "#8. Qual o nome da cidade que possui a maior quantidade de restaurantes que aceitam pedidos online?\n",
    "c8 = data_raw.loc[data_raw['has_online_delivery'] == 1, :][['city', 'restaurant_id']].groupby('city').count().reset_index().sort_values('restaurant_id', ascending = False)\n"
   ]
  },
  {
   "cell_type": "code",
   "execution_count": 13,
   "id": "b39734af",
   "metadata": {},
   "outputs": [],
   "source": [
    "#========================================================#\n",
    "                   # Culinária #\n",
    "#========================================================#\n",
    "\n",
    "#1. Dos restaurantes que possuem o tipo de culinária italiana, qual o nome do restaurante com a maior média de avaliação?\n",
    "c1 = data_raw.loc[data_raw['cuisines'] =='Italian', :][['restaurant_name', 'aggregate_rating']].groupby('restaurant_name').max().sort_values('aggregate_rating',\n",
    "                                                                                                                                            ascending=False).reset_index()   \n",
    "#2. Dos restaurantes que possuem o tipo de culinária italiana, qual o nome do restaurante com a menor média de avaliação?\n",
    "c2= data_raw.loc[data_raw['cuisines'] =='Italian', :][['restaurant_name', 'aggregate_rating']].groupby('restaurant_name').max().sort_values('aggregate_rating',\n",
    "                                                                                                                                            ascending=True).reset_index()\n",
    "#3. Dos restaurantes que possuem o tipo de culinária americana, qual o nome do restaurante com a maior média de avaliação?\n",
    "c3 = data_raw.loc[data_raw['cuisines'] =='American', :][['restaurant_name', 'aggregate_rating']].groupby('restaurant_name').max().sort_values('aggregate_rating',\n",
    "                                                                                                                                        ascending=False).reset_index()\n",
    "#4. Dos restaurantes que possuem o tipo de culinária americana, qual o nome do restaurante com a menor média de avaliação?\n",
    "c3 = data_raw.loc[data_raw['cuisines'] =='American', :][['restaurant_name', 'aggregate_rating']].groupby('restaurant_name').max().sort_values('aggregate_rating',\n",
    "                                                                                                                                        ascending=True).reset_index()\n",
    "#5. Dos restaurantes que possuem o tipo de culinária árabe, qual o nome do restaurante com a maior média de avaliação?\n",
    "c5 = data_raw.loc[data_raw['cuisines'] =='Arabian', :][['restaurant_name', 'aggregate_rating']].groupby('restaurant_name').max().sort_values('aggregate_rating',\n",
    "                                                                                                                                        ascending=False).reset_index()\n",
    "#6. Dos restaurantes que possuem o tipo de culinária árabe, qual o nome do restaurante com a menor média de avaliação?\n",
    "c6 = data_raw.loc[data_raw['cuisines'] =='Arabian', :][['restaurant_name', 'aggregate_rating']].groupby('restaurant_name').max().sort_values('aggregate_rating',\n",
    "                                                                                                                                        ascending=True).reset_index()\n",
    "#7. Dos restaurantes que possuem o tipo de culinária japonesa, qual o nome do restaurante com a maior média de avaliação?\n",
    "c7 = data_raw.loc[data_raw['cuisines'] =='Japanese', :][['restaurant_name', 'aggregate_rating']].groupby('restaurant_name').max().sort_values('aggregate_rating',\n",
    "                                                                                                                                        ascending=False).reset_index()\n",
    "#8. Dos restaurantes que possuem o tipo de culinária japonesa, qual o nome do restaurante com a menor média de avaliação?\n",
    "c8 =data_raw.loc[data_raw['cuisines'] =='Japanese', :][['restaurant_name', 'aggregate_rating']].groupby('restaurant_name').max().sort_values('aggregate_rating',\n",
    "                                                                                                                                        ascending=True).reset_index()\n",
    "#9. Dos restaurantes que possuem o tipo de culinária caseira, qual o nome do restaurante com a maior média de avaliação?\n",
    "c9 = data_raw.loc[data_raw['cuisines'] =='Home-made', :][['restaurant_name', 'aggregate_rating']].groupby('restaurant_name').max().sort_values('aggregate_rating',\n",
    "                                                                                                                                        ascending=False).reset_index()\n",
    "#10. Dos restaurantes que possuem o tipo de culinária caseira, qual o nome do restaurante com a menor média de avaliação?\n",
    "c10 = data_raw.loc[data_raw['cuisines'] =='Home-made', :][['restaurant_name', 'aggregate_rating']].groupby('restaurant_name').max().sort_values('aggregate_rating',\n",
    "                                                                                                                                        ascending=True).reset_index()\n",
    "#11. Qual o tipo de culinária que possui o maior valor médio de um prato para duas pessoas?\n",
    "c11 = data_raw[['cuisines','average_cost_for_two_usd']].groupby('cuisines').max().sort_values('average_cost_for_two_usd', ascending = False).reset_index()\n",
    "\n",
    "#12. Qual o tipo de culinária que possui a maior nota média?\n",
    "c12 = data_raw[['cuisines','aggregate_rating']].groupby('cuisines').max().sort_values('aggregate_rating', ascending = False).reset_index()\n",
    "\n",
    "#13. Qual o tipo de culinária que possui mais restaurantes que aceitam pedidos online e fazem entregas\n",
    "c13a = data_raw.loc[(data_raw['has_online_delivery'] == 1) & (data_raw['is_delivering_now'] == 1) , :][['cuisines', 'restaurant_id' ]]\n",
    "c13 = c13a.groupby('cuisines').count().sort_values('restaurant_id', ascending = False).reset_index()"
   ]
  },
  {
   "cell_type": "code",
   "execution_count": 25,
   "id": "48a0f08a",
   "metadata": {},
   "outputs": [
    {
     "data": {
      "text/html": [
       "<div>\n",
       "<style scoped>\n",
       "    .dataframe tbody tr th:only-of-type {\n",
       "        vertical-align: middle;\n",
       "    }\n",
       "\n",
       "    .dataframe tbody tr th {\n",
       "        vertical-align: top;\n",
       "    }\n",
       "\n",
       "    .dataframe thead th {\n",
       "        text-align: right;\n",
       "    }\n",
       "</style>\n",
       "<table border=\"1\" class=\"dataframe\">\n",
       "  <thead>\n",
       "    <tr style=\"text-align: right;\">\n",
       "      <th></th>\n",
       "      <th>country</th>\n",
       "      <th>average_cost_for_two_usd</th>\n",
       "    </tr>\n",
       "  </thead>\n",
       "  <tbody>\n",
       "    <tr>\n",
       "      <th>9</th>\n",
       "      <td>Singapure</td>\n",
       "      <td>141.437500</td>\n",
       "    </tr>\n",
       "    <tr>\n",
       "      <th>7</th>\n",
       "      <td>Philippines</td>\n",
       "      <td>93.314700</td>\n",
       "    </tr>\n",
       "    <tr>\n",
       "      <th>0</th>\n",
       "      <td>Australia</td>\n",
       "      <td>71.195531</td>\n",
       "    </tr>\n",
       "    <tr>\n",
       "      <th>11</th>\n",
       "      <td>Sri Lanka</td>\n",
       "      <td>69.643125</td>\n",
       "    </tr>\n",
       "    <tr>\n",
       "      <th>14</th>\n",
       "      <td>United States of America</td>\n",
       "      <td>55.029840</td>\n",
       "    </tr>\n",
       "  </tbody>\n",
       "</table>\n",
       "</div>"
      ],
      "text/plain": [
       "                     country  average_cost_for_two_usd\n",
       "9                  Singapure                141.437500\n",
       "7                Philippines                 93.314700\n",
       "0                  Australia                 71.195531\n",
       "11                 Sri Lanka                 69.643125\n",
       "14  United States of America                 55.029840"
      ]
     },
     "execution_count": 25,
     "metadata": {},
     "output_type": "execute_result"
    }
   ],
   "source": [
    "pa11.iloc[0:5, :]"
   ]
  },
  {
   "cell_type": "code",
   "execution_count": null,
   "id": "6c780bcc",
   "metadata": {},
   "outputs": [],
   "source": []
  }
 ],
 "metadata": {
  "kernelspec": {
   "display_name": "Python 3 (ipykernel)",
   "language": "python",
   "name": "python3"
  },
  "language_info": {
   "codemirror_mode": {
    "name": "ipython",
    "version": 3
   },
   "file_extension": ".py",
   "mimetype": "text/x-python",
   "name": "python",
   "nbconvert_exporter": "python",
   "pygments_lexer": "ipython3",
   "version": "3.9.13"
  }
 },
 "nbformat": 4,
 "nbformat_minor": 5
}
